{
 "cells": [
  {
   "cell_type": "code",
   "execution_count": 1,
   "id": "7a40429a",
   "metadata": {},
   "outputs": [
    {
     "name": "stderr",
     "output_type": "stream",
     "text": [
      "C:\\Users\\swp7563\\Anaconda3\\envs\\hddmEnv\\lib\\site-packages\\IPython\\parallel.py:13: ShimWarning: The `IPython.parallel` package has been deprecated since IPython 4.0. You should import from ipyparallel instead.\n",
      "  \"You should import from ipyparallel instead.\", ShimWarning)\n"
     ]
    }
   ],
   "source": [
    "#!/Users/swp7563/Anaconda3/envs/hddmEnv/Scripts\n",
    "import pandas as pd\n",
    "import matplotlib.pyplot as plt\n",
    "\n",
    "import hddm"
   ]
  },
  {
   "cell_type": "code",
   "execution_count": 2,
   "id": "8f42ac17",
   "metadata": {},
   "outputs": [
    {
     "data": {
      "text/html": [
       "<div>\n",
       "<style scoped>\n",
       "    .dataframe tbody tr th:only-of-type {\n",
       "        vertical-align: middle;\n",
       "    }\n",
       "\n",
       "    .dataframe tbody tr th {\n",
       "        vertical-align: top;\n",
       "    }\n",
       "\n",
       "    .dataframe thead th {\n",
       "        text-align: right;\n",
       "    }\n",
       "</style>\n",
       "<table border=\"1\" class=\"dataframe\">\n",
       "  <thead>\n",
       "    <tr style=\"text-align: right;\">\n",
       "      <th></th>\n",
       "      <th>subj_idx</th>\n",
       "      <th>stim</th>\n",
       "      <th>rt</th>\n",
       "      <th>response</th>\n",
       "      <th>threat</th>\n",
       "      <th>group</th>\n",
       "    </tr>\n",
       "  </thead>\n",
       "  <tbody>\n",
       "    <tr>\n",
       "      <th>0</th>\n",
       "      <td>3</td>\n",
       "      <td>congruent</td>\n",
       "      <td>0.407</td>\n",
       "      <td>1</td>\n",
       "      <td>NS</td>\n",
       "      <td>HC</td>\n",
       "    </tr>\n",
       "    <tr>\n",
       "      <th>1</th>\n",
       "      <td>3</td>\n",
       "      <td>congruent</td>\n",
       "      <td>0.470</td>\n",
       "      <td>1</td>\n",
       "      <td>NS</td>\n",
       "      <td>HC</td>\n",
       "    </tr>\n",
       "    <tr>\n",
       "      <th>2</th>\n",
       "      <td>3</td>\n",
       "      <td>congruent</td>\n",
       "      <td>0.483</td>\n",
       "      <td>1</td>\n",
       "      <td>NS</td>\n",
       "      <td>HC</td>\n",
       "    </tr>\n",
       "    <tr>\n",
       "      <th>3</th>\n",
       "      <td>3</td>\n",
       "      <td>incongruent</td>\n",
       "      <td>-999.000</td>\n",
       "      <td>0</td>\n",
       "      <td>NS</td>\n",
       "      <td>HC</td>\n",
       "    </tr>\n",
       "    <tr>\n",
       "      <th>4</th>\n",
       "      <td>3</td>\n",
       "      <td>congruent</td>\n",
       "      <td>0.466</td>\n",
       "      <td>1</td>\n",
       "      <td>NS</td>\n",
       "      <td>HC</td>\n",
       "    </tr>\n",
       "    <tr>\n",
       "      <th>5</th>\n",
       "      <td>3</td>\n",
       "      <td>incongruent</td>\n",
       "      <td>0.487</td>\n",
       "      <td>1</td>\n",
       "      <td>NS</td>\n",
       "      <td>HC</td>\n",
       "    </tr>\n",
       "    <tr>\n",
       "      <th>6</th>\n",
       "      <td>3</td>\n",
       "      <td>congruent</td>\n",
       "      <td>0.477</td>\n",
       "      <td>1</td>\n",
       "      <td>NS</td>\n",
       "      <td>HC</td>\n",
       "    </tr>\n",
       "    <tr>\n",
       "      <th>7</th>\n",
       "      <td>3</td>\n",
       "      <td>congruent</td>\n",
       "      <td>0.577</td>\n",
       "      <td>1</td>\n",
       "      <td>NS</td>\n",
       "      <td>HC</td>\n",
       "    </tr>\n",
       "    <tr>\n",
       "      <th>8</th>\n",
       "      <td>3</td>\n",
       "      <td>congruent</td>\n",
       "      <td>0.550</td>\n",
       "      <td>1</td>\n",
       "      <td>NS</td>\n",
       "      <td>HC</td>\n",
       "    </tr>\n",
       "    <tr>\n",
       "      <th>9</th>\n",
       "      <td>3</td>\n",
       "      <td>congruent</td>\n",
       "      <td>0.454</td>\n",
       "      <td>1</td>\n",
       "      <td>NS</td>\n",
       "      <td>HC</td>\n",
       "    </tr>\n",
       "  </tbody>\n",
       "</table>\n",
       "</div>"
      ],
      "text/plain": [
       "   subj_idx         stim       rt  response threat group\n",
       "0         3    congruent    0.407         1     NS    HC\n",
       "1         3    congruent    0.470         1     NS    HC\n",
       "2         3    congruent    0.483         1     NS    HC\n",
       "3         3  incongruent -999.000         0     NS    HC\n",
       "4         3    congruent    0.466         1     NS    HC\n",
       "5         3  incongruent    0.487         1     NS    HC\n",
       "6         3    congruent    0.477         1     NS    HC\n",
       "7         3    congruent    0.577         1     NS    HC\n",
       "8         3    congruent    0.550         1     NS    HC\n",
       "9         3    congruent    0.454         1     NS    HC"
      ]
     },
     "execution_count": 2,
     "metadata": {},
     "output_type": "execute_result"
    }
   ],
   "source": [
    "data=hddm.load_csv('C:/Users/swp7563/Anaconda3/envs/hddmEnv/data/ant_ddm.csv')\n",
    "\n",
    "data.head(10)"
   ]
  },
  {
   "cell_type": "code",
   "execution_count": 25,
   "id": "9a046cf3",
   "metadata": {},
   "outputs": [
    {
     "name": "stdout",
     "output_type": "stream",
     "text": [
      " [-----------------100%-----------------] 2001 of 2000 complete in 3247.6 sec"
     ]
    },
    {
     "data": {
      "text/plain": [
       "<pymc.MCMC.MCMC at 0x235f6696b70>"
      ]
     },
     "execution_count": 25,
     "metadata": {},
     "output_type": "execute_result"
    }
   ],
   "source": [
    "model_stim_x_group = hddm.HDDM (data, depends_on={'v': ['stim', 'group']},p_outlier=.05) \n",
    "model_stim_x_group.find_starting_values()\n",
    "model_stim_x_group.sample(2000, burn=20)"
   ]
  },
  {
   "cell_type": "code",
   "execution_count": 40,
   "id": "7e5ba2f9",
   "metadata": {},
   "outputs": [],
   "source": [
    "v_HC_congruent, v_HC_incongruent, v_PDA_congruent, v_PDA_incongruent, v_PDNA_congruent, v_PDNA_incongruent = model_stim_x_group.nodes_db.node[['v(HC.congruent)', 'v(HC.incongruent)', 'v(PDA.congruent)', 'v(PDA.incongruent)', 'v(PDNA.congruent)', 'v(PDNA.incongruent)']]"
   ]
  },
  {
   "cell_type": "code",
   "execution_count": 41,
   "id": "39945b5d",
   "metadata": {},
   "outputs": [
    {
     "data": {
      "image/png": "[encoded data removed]",
      "text/plain": [
       "<Figure size 432x288 with 1 Axes>"
      ]
     },
     "metadata": {
      "needs_background": "light"
     },
     "output_type": "display_data"
    }
   ],
   "source": [
    "hddm.analyze.plot_posterior_nodes([v_HC_congruent, v_HC_incongruent, v_PDA_congruent, v_PDA_incongruent, v_PDNA_congruent, v_PDNA_incongruent])\n",
    "plt.xlabel('drift-rate')\n",
    "plt.ylabel('Posterior probability')\n",
    "plt.title('Posterior of drift-rate means')\n",
    "plt.savefig('hddm_stim_x_group.pdf')"
   ]
  },
  {
   "cell_type": "code",
   "execution_count": 42,
   "id": "0812a077",
   "metadata": {},
   "outputs": [
    {
     "data": {
      "text/plain": [
       "('P(HC.congruent > PDNA.congruent) = ', 0.9868686868686869)"
      ]
     },
     "execution_count": 42,
     "metadata": {},
     "output_type": "execute_result"
    }
   ],
   "source": [
    "\"P(HC.congruent > PDNA.congruent) = \", (v_HC_congruent.trace() > v_PDNA_congruent.trace()).mean()"
   ]
  },
  {
   "cell_type": "code",
   "execution_count": 43,
   "id": "d3e081ca",
   "metadata": {},
   "outputs": [
    {
     "data": {
      "text/plain": [
       "('P(HC.congruent > PDA.congruent) = ', 0.9984848484848485)"
      ]
     },
     "execution_count": 43,
     "metadata": {},
     "output_type": "execute_result"
    }
   ],
   "source": [
    "\"P(HC.congruent > PDA.congruent) = \", (v_HC_congruent.trace() > v_PDA_congruent.trace()).mean()"
   ]
  },
  {
   "cell_type": "code",
   "execution_count": 44,
   "id": "cd064772",
   "metadata": {},
   "outputs": [
    {
     "data": {
      "text/plain": [
       "('P(PDNA.congruent > PDA.congruent) = ', 0.8909090909090909)"
      ]
     },
     "execution_count": 44,
     "metadata": {},
     "output_type": "execute_result"
    }
   ],
   "source": [
    "\"P(PDNA.congruent > PDA.congruent) = \", (v_PDNA_congruent.trace() > v_PDA_congruent.trace()).mean()"
   ]
  },
  {
   "cell_type": "code",
   "execution_count": 45,
   "id": "c5617d61",
   "metadata": {},
   "outputs": [
    {
     "data": {
      "text/plain": [
       "('P(HC.incongruent > PDNA.incongruent) = ', 0.9914141414141414)"
      ]
     },
     "execution_count": 45,
     "metadata": {},
     "output_type": "execute_result"
    }
   ],
   "source": [
    "\"P(HC.incongruent > PDNA.incongruent) = \", (v_HC_incongruent.trace() > v_PDNA_incongruent.trace()).mean()"
   ]
  },
  {
   "cell_type": "code",
   "execution_count": 46,
   "id": "8aedba13",
   "metadata": {},
   "outputs": [
    {
     "data": {
      "text/plain": [
       "('P(HC.incongruent > PDA.incongruent) = ', 0.9878787878787879)"
      ]
     },
     "execution_count": 46,
     "metadata": {},
     "output_type": "execute_result"
    }
   ],
   "source": [
    "\"P(HC.incongruent > PDA.incongruent) = \", (v_HC_incongruent.trace() > v_PDA_incongruent.trace()).mean()"
   ]
  },
  {
   "cell_type": "code",
   "execution_count": 47,
   "id": "c0a8c7f2",
   "metadata": {},
   "outputs": [
    {
     "data": {
      "text/plain": [
       "('P(PDNA.incongruent > PDA.incongruent) = ', 0.5934343434343434)"
      ]
     },
     "execution_count": 47,
     "metadata": {},
     "output_type": "execute_result"
    }
   ],
   "source": [
    "\"P(PDNA.incongruent > PDA.incongruent) = \", (v_PDNA_incongruent.trace() > v_PDA_incongruent.trace()).mean()"
   ]
  },
  {
   "cell_type": "code",
   "execution_count": null,
   "id": "a37d8166",
   "metadata": {},
   "outputs": [],
   "source": []
  }
 ],
 "metadata": {
  "kernelspec": {
   "display_name": "Python 3",
   "language": "python",
   "name": "python3"
  },
  "language_info": {
   "codemirror_mode": {
    "name": "ipython",
    "version": 3
   },
   "file_extension": ".py",
   "mimetype": "text/x-python",
   "name": "python",
   "nbconvert_exporter": "python",
   "pygments_lexer": "ipython3",
   "version": "3.6.10"
  }
 },
 "nbformat": 4,
 "nbformat_minor": 5
}
