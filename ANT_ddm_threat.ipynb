{
 "cells": [
  {
   "cell_type": "code",
   "execution_count": 1,
   "id": "7a40429a",
   "metadata": {},
   "outputs": [
    {
     "name": "stderr",
     "output_type": "stream",
     "text": [
      "C:\\Users\\swp7563\\Anaconda3\\envs\\hddmEnv\\lib\\site-packages\\IPython\\parallel.py:13: ShimWarning: The `IPython.parallel` package has been deprecated since IPython 4.0. You should import from ipyparallel instead.\n",
      "  \"You should import from ipyparallel instead.\", ShimWarning)\n"
     ]
    }
   ],
   "source": [
    "#!/Users/swp7563/Anaconda3/envs/hddmEnv/Scripts\n",
    "import pandas as pd\n",
    "import matplotlib.pyplot as plt\n",
    "\n",
    "import hddm"
   ]
  },
  {
   "cell_type": "code",
   "execution_count": 2,
   "id": "8f42ac17",
   "metadata": {},
   "outputs": [
    {
     "data": {
      "text/html": [
       "<div>\n",
       "<style scoped>\n",
       "    .dataframe tbody tr th:only-of-type {\n",
       "        vertical-align: middle;\n",
       "    }\n",
       "\n",
       "    .dataframe tbody tr th {\n",
       "        vertical-align: top;\n",
       "    }\n",
       "\n",
       "    .dataframe thead th {\n",
       "        text-align: right;\n",
       "    }\n",
       "</style>\n",
       "<table border=\"1\" class=\"dataframe\">\n",
       "  <thead>\n",
       "    <tr style=\"text-align: right;\">\n",
       "      <th></th>\n",
       "      <th>subj_idx</th>\n",
       "      <th>stim</th>\n",
       "      <th>rt</th>\n",
       "      <th>response</th>\n",
       "      <th>threat</th>\n",
       "      <th>group</th>\n",
       "    </tr>\n",
       "  </thead>\n",
       "  <tbody>\n",
       "    <tr>\n",
       "      <th>0</th>\n",
       "      <td>3</td>\n",
       "      <td>congruent</td>\n",
       "      <td>0.407</td>\n",
       "      <td>1</td>\n",
       "      <td>NS</td>\n",
       "      <td>HC</td>\n",
       "    </tr>\n",
       "    <tr>\n",
       "      <th>1</th>\n",
       "      <td>3</td>\n",
       "      <td>congruent</td>\n",
       "      <td>0.470</td>\n",
       "      <td>1</td>\n",
       "      <td>NS</td>\n",
       "      <td>HC</td>\n",
       "    </tr>\n",
       "    <tr>\n",
       "      <th>2</th>\n",
       "      <td>3</td>\n",
       "      <td>congruent</td>\n",
       "      <td>0.483</td>\n",
       "      <td>1</td>\n",
       "      <td>NS</td>\n",
       "      <td>HC</td>\n",
       "    </tr>\n",
       "    <tr>\n",
       "      <th>3</th>\n",
       "      <td>3</td>\n",
       "      <td>incongruent</td>\n",
       "      <td>-999.000</td>\n",
       "      <td>0</td>\n",
       "      <td>NS</td>\n",
       "      <td>HC</td>\n",
       "    </tr>\n",
       "    <tr>\n",
       "      <th>4</th>\n",
       "      <td>3</td>\n",
       "      <td>congruent</td>\n",
       "      <td>0.466</td>\n",
       "      <td>1</td>\n",
       "      <td>NS</td>\n",
       "      <td>HC</td>\n",
       "    </tr>\n",
       "    <tr>\n",
       "      <th>5</th>\n",
       "      <td>3</td>\n",
       "      <td>incongruent</td>\n",
       "      <td>0.487</td>\n",
       "      <td>1</td>\n",
       "      <td>NS</td>\n",
       "      <td>HC</td>\n",
       "    </tr>\n",
       "    <tr>\n",
       "      <th>6</th>\n",
       "      <td>3</td>\n",
       "      <td>congruent</td>\n",
       "      <td>0.477</td>\n",
       "      <td>1</td>\n",
       "      <td>NS</td>\n",
       "      <td>HC</td>\n",
       "    </tr>\n",
       "    <tr>\n",
       "      <th>7</th>\n",
       "      <td>3</td>\n",
       "      <td>congruent</td>\n",
       "      <td>0.577</td>\n",
       "      <td>1</td>\n",
       "      <td>NS</td>\n",
       "      <td>HC</td>\n",
       "    </tr>\n",
       "    <tr>\n",
       "      <th>8</th>\n",
       "      <td>3</td>\n",
       "      <td>congruent</td>\n",
       "      <td>0.550</td>\n",
       "      <td>1</td>\n",
       "      <td>NS</td>\n",
       "      <td>HC</td>\n",
       "    </tr>\n",
       "    <tr>\n",
       "      <th>9</th>\n",
       "      <td>3</td>\n",
       "      <td>congruent</td>\n",
       "      <td>0.454</td>\n",
       "      <td>1</td>\n",
       "      <td>NS</td>\n",
       "      <td>HC</td>\n",
       "    </tr>\n",
       "  </tbody>\n",
       "</table>\n",
       "</div>"
      ],
      "text/plain": [
       "   subj_idx         stim       rt  response threat group\n",
       "0         3    congruent    0.407         1     NS    HC\n",
       "1         3    congruent    0.470         1     NS    HC\n",
       "2         3    congruent    0.483         1     NS    HC\n",
       "3         3  incongruent -999.000         0     NS    HC\n",
       "4         3    congruent    0.466         1     NS    HC\n",
       "5         3  incongruent    0.487         1     NS    HC\n",
       "6         3    congruent    0.477         1     NS    HC\n",
       "7         3    congruent    0.577         1     NS    HC\n",
       "8         3    congruent    0.550         1     NS    HC\n",
       "9         3    congruent    0.454         1     NS    HC"
      ]
     },
     "execution_count": 2,
     "metadata": {},
     "output_type": "execute_result"
    }
   ],
   "source": [
    "data=hddm.load_csv('C:/Users/swp7563/Anaconda3/envs/hddmEnv/data/ant_ddm.csv')\n",
    "\n",
    "data.head(10)"
   ]
  },
  {
   "cell_type": "code",
   "execution_count": 3,
   "id": "efebe6b2",
   "metadata": {},
   "outputs": [
    {
     "name": "stderr",
     "output_type": "stream",
     "text": [
      "C:\\Users\\swp7563\\Anaconda3\\envs\\hddmEnv\\lib\\site-packages\\scipy\\optimize\\optimize.py:2116: RuntimeWarning: invalid value encountered in double_scalars\n",
      "  tmp2 = (x - v) * (fx - fw)\n"
     ]
    },
    {
     "name": "stdout",
     "output_type": "stream",
     "text": [
      " [-----------------100%-----------------] 2001 of 2000 complete in 4997.9 sec"
     ]
    },
    {
     "data": {
      "text/plain": [
       "<pymc.MCMC.MCMC at 0x21af2cd4fd0>"
      ]
     },
     "execution_count": 3,
     "metadata": {},
     "output_type": "execute_result"
    }
   ],
   "source": [
    "model_stim_x_threat = hddm.HDDM (data, depends_on={'v': ['stim', 'threat']},p_outlier=.05) \n",
    "model_stim_x_threat.find_starting_values()\n",
    "model_stim_x_threat.sample(2000, burn=20)"
   ]
  },
  {
   "cell_type": "code",
   "execution_count": 6,
   "id": "28d96c47",
   "metadata": {},
   "outputs": [],
   "source": [
    "v_NS_congruent, v_NS_incongruent, v_SH_congruent, v_SH_incongruent = model_stim_x_threat.nodes_db.node[['v(congruent.NS)', 'v(incongruent.NS)', 'v(congruent.SH)', 'v(incongruent.SH)']]"
   ]
  },
  {
   "cell_type": "code",
   "execution_count": 7,
   "id": "d062780f",
   "metadata": {},
   "outputs": [
    {
     "data": {
      "image/png": "[encoded data removed]",
      "text/plain": [
       "<Figure size 432x288 with 1 Axes>"
      ]
     },
     "metadata": {
      "needs_background": "light"
     },
     "output_type": "display_data"
    }
   ],
   "source": [
    "hddm.analyze.plot_posterior_nodes([v_NS_congruent, v_NS_incongruent, v_SH_congruent, v_SH_incongruent])\n",
    "plt.xlabel('drift-rate')\n",
    "plt.ylabel('Posterior probability')\n",
    "plt.title('Posterior of drift-rate means')\n",
    "plt.savefig('hddm_stim_x_threat.pdf')"
   ]
  },
  {
   "cell_type": "code",
   "execution_count": 12,
   "id": "c55841ad",
   "metadata": {},
   "outputs": [
    {
     "data": {
      "text/plain": [
       "('P(congruent.NS > incongruent.NS) = ', 1.0)"
      ]
     },
     "execution_count": 12,
     "metadata": {},
     "output_type": "execute_result"
    }
   ],
   "source": [
    "\"P(congruent.NS > incongruent.NS) = \", (v_NS_congruent.trace() > v_NS_incongruent.trace()).mean()"
   ]
  },
  {
   "cell_type": "code",
   "execution_count": 13,
   "id": "4683733b",
   "metadata": {},
   "outputs": [
    {
     "data": {
      "text/plain": [
       "('P(congruent.SH > incongruent.SH) = ', 1.0)"
      ]
     },
     "execution_count": 13,
     "metadata": {},
     "output_type": "execute_result"
    }
   ],
   "source": [
    "\"P(congruent.SH > incongruent.SH) = \", (v_SH_congruent.trace() > v_SH_incongruent.trace()).mean()"
   ]
  },
  {
   "cell_type": "code",
   "execution_count": 14,
   "id": "5c315008",
   "metadata": {},
   "outputs": [
    {
     "data": {
      "text/plain": [
       "('P(congruent.SH > congruent.NS) = ', 0.6767676767676768)"
      ]
     },
     "execution_count": 14,
     "metadata": {},
     "output_type": "execute_result"
    }
   ],
   "source": [
    "\"P(congruent.SH > congruent.NS) = \", (v_SH_congruent.trace() > v_NS_congruent.trace()).mean()"
   ]
  },
  {
   "cell_type": "code",
   "execution_count": 15,
   "id": "5eaff1dd",
   "metadata": {},
   "outputs": [
    {
     "data": {
      "text/plain": [
       "('P(incongruent.SH > incongruent.NS) = ', 0.6767676767676768)"
      ]
     },
     "execution_count": 15,
     "metadata": {},
     "output_type": "execute_result"
    }
   ],
   "source": [
    "\"P(incongruent.SH > incongruent.NS) = \", (v_SH_incongruent.trace() > v_NS_incongruent.trace()).mean()"
   ]
  },
  {
   "cell_type": "code",
   "execution_count": null,
   "id": "62799a04",
   "metadata": {},
   "outputs": [],
   "source": []
  }
 ],
 "metadata": {
  "kernelspec": {
   "display_name": "Python 3",
   "language": "python",
   "name": "python3"
  },
  "language_info": {
   "codemirror_mode": {
    "name": "ipython",
    "version": 3
   },
   "file_extension": ".py",
   "mimetype": "text/x-python",
   "name": "python",
   "nbconvert_exporter": "python",
   "pygments_lexer": "ipython3",
   "version": "3.6.10"
  }
 },
 "nbformat": 4,
 "nbformat_minor": 5
}
