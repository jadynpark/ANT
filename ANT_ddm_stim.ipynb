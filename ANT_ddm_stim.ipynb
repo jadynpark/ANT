{
 "cells": [
  {
   "cell_type": "code",
   "execution_count": 1,
   "id": "7a40429a",
   "metadata": {},
   "outputs": [
    {
     "name": "stderr",
     "output_type": "stream",
     "text": [
      "C:\\Users\\swp7563\\Anaconda3\\envs\\hddmEnv\\lib\\site-packages\\IPython\\parallel.py:13: ShimWarning: The `IPython.parallel` package has been deprecated since IPython 4.0. You should import from ipyparallel instead.\n",
      "  \"You should import from ipyparallel instead.\", ShimWarning)\n"
     ]
    }
   ],
   "source": [
    "#!/Users/swp7563/Anaconda3/envs/hddmEnv/Scripts\n",
    "import pandas as pd\n",
    "import matplotlib.pyplot as plt\n",
    "\n",
    "import hddm"
   ]
  },
  {
   "cell_type": "code",
   "execution_count": 3,
   "id": "8f42ac17",
   "metadata": {},
   "outputs": [
    {
     "data": {
      "text/html": [
       "<div>\n",
       "<style scoped>\n",
       "    .dataframe tbody tr th:only-of-type {\n",
       "        vertical-align: middle;\n",
       "    }\n",
       "\n",
       "    .dataframe tbody tr th {\n",
       "        vertical-align: top;\n",
       "    }\n",
       "\n",
       "    .dataframe thead th {\n",
       "        text-align: right;\n",
       "    }\n",
       "</style>\n",
       "<table border=\"1\" class=\"dataframe\">\n",
       "  <thead>\n",
       "    <tr style=\"text-align: right;\">\n",
       "      <th></th>\n",
       "      <th>subj_idx</th>\n",
       "      <th>stim</th>\n",
       "      <th>rt</th>\n",
       "      <th>response</th>\n",
       "      <th>threat</th>\n",
       "      <th>group</th>\n",
       "    </tr>\n",
       "  </thead>\n",
       "  <tbody>\n",
       "    <tr>\n",
       "      <th>0</th>\n",
       "      <td>3</td>\n",
       "      <td>congruent</td>\n",
       "      <td>0.407</td>\n",
       "      <td>1</td>\n",
       "      <td>NS</td>\n",
       "      <td>HC</td>\n",
       "    </tr>\n",
       "    <tr>\n",
       "      <th>1</th>\n",
       "      <td>3</td>\n",
       "      <td>congruent</td>\n",
       "      <td>0.470</td>\n",
       "      <td>1</td>\n",
       "      <td>NS</td>\n",
       "      <td>HC</td>\n",
       "    </tr>\n",
       "    <tr>\n",
       "      <th>2</th>\n",
       "      <td>3</td>\n",
       "      <td>congruent</td>\n",
       "      <td>0.483</td>\n",
       "      <td>1</td>\n",
       "      <td>NS</td>\n",
       "      <td>HC</td>\n",
       "    </tr>\n",
       "    <tr>\n",
       "      <th>3</th>\n",
       "      <td>3</td>\n",
       "      <td>incongruent</td>\n",
       "      <td>-999.000</td>\n",
       "      <td>0</td>\n",
       "      <td>NS</td>\n",
       "      <td>HC</td>\n",
       "    </tr>\n",
       "    <tr>\n",
       "      <th>4</th>\n",
       "      <td>3</td>\n",
       "      <td>congruent</td>\n",
       "      <td>0.466</td>\n",
       "      <td>1</td>\n",
       "      <td>NS</td>\n",
       "      <td>HC</td>\n",
       "    </tr>\n",
       "    <tr>\n",
       "      <th>5</th>\n",
       "      <td>3</td>\n",
       "      <td>incongruent</td>\n",
       "      <td>0.487</td>\n",
       "      <td>1</td>\n",
       "      <td>NS</td>\n",
       "      <td>HC</td>\n",
       "    </tr>\n",
       "    <tr>\n",
       "      <th>6</th>\n",
       "      <td>3</td>\n",
       "      <td>congruent</td>\n",
       "      <td>0.477</td>\n",
       "      <td>1</td>\n",
       "      <td>NS</td>\n",
       "      <td>HC</td>\n",
       "    </tr>\n",
       "    <tr>\n",
       "      <th>7</th>\n",
       "      <td>3</td>\n",
       "      <td>congruent</td>\n",
       "      <td>0.577</td>\n",
       "      <td>1</td>\n",
       "      <td>NS</td>\n",
       "      <td>HC</td>\n",
       "    </tr>\n",
       "    <tr>\n",
       "      <th>8</th>\n",
       "      <td>3</td>\n",
       "      <td>congruent</td>\n",
       "      <td>0.550</td>\n",
       "      <td>1</td>\n",
       "      <td>NS</td>\n",
       "      <td>HC</td>\n",
       "    </tr>\n",
       "    <tr>\n",
       "      <th>9</th>\n",
       "      <td>3</td>\n",
       "      <td>congruent</td>\n",
       "      <td>0.454</td>\n",
       "      <td>1</td>\n",
       "      <td>NS</td>\n",
       "      <td>HC</td>\n",
       "    </tr>\n",
       "  </tbody>\n",
       "</table>\n",
       "</div>"
      ],
      "text/plain": [
       "   subj_idx         stim       rt  response threat group\n",
       "0         3    congruent    0.407         1     NS    HC\n",
       "1         3    congruent    0.470         1     NS    HC\n",
       "2         3    congruent    0.483         1     NS    HC\n",
       "3         3  incongruent -999.000         0     NS    HC\n",
       "4         3    congruent    0.466         1     NS    HC\n",
       "5         3  incongruent    0.487         1     NS    HC\n",
       "6         3    congruent    0.477         1     NS    HC\n",
       "7         3    congruent    0.577         1     NS    HC\n",
       "8         3    congruent    0.550         1     NS    HC\n",
       "9         3    congruent    0.454         1     NS    HC"
      ]
     },
     "execution_count": 3,
     "metadata": {},
     "output_type": "execute_result"
    }
   ],
   "source": [
    "data=hddm.load_csv('C:/Users/swp7563/Anaconda3/envs/hddmEnv/data/ant_ddm.csv')\n",
    "\n",
    "data.head(10)"
   ]
  },
  {
   "cell_type": "code",
   "execution_count": 4,
   "id": "8c1d7cd2",
   "metadata": {},
   "outputs": [
    {
     "name": "stderr",
     "output_type": "stream",
     "text": [
      "C:\\Users\\swp7563\\Anaconda3\\envs\\hddmEnv\\lib\\site-packages\\scipy\\optimize\\optimize.py:2116: RuntimeWarning: invalid value encountered in double_scalars\n",
      "  tmp2 = (x - v) * (fx - fw)\n"
     ]
    },
    {
     "name": "stdout",
     "output_type": "stream",
     "text": [
      " [-----------------100%-----------------] 2001 of 2000 complete in 3084.6 sec"
     ]
    },
    {
     "data": {
      "text/plain": [
       "<pymc.MCMC.MCMC at 0x1baafab0710>"
      ]
     },
     "execution_count": 4,
     "metadata": {},
     "output_type": "execute_result"
    }
   ],
   "source": [
    "model_stim=hddm.HDDM(data, depends_on={'v': 'stim'}, p_outlier=.05)\n",
    "model_stim.find_starting_values()\n",
    "model_stim.sample(2000, burn=20)"
   ]
  },
  {
   "cell_type": "code",
   "execution_count": 13,
   "id": "e589f247",
   "metadata": {},
   "outputs": [
    {
     "data": {
      "text/html": [
       "<div>\n",
       "<style scoped>\n",
       "    .dataframe tbody tr th:only-of-type {\n",
       "        vertical-align: middle;\n",
       "    }\n",
       "\n",
       "    .dataframe tbody tr th {\n",
       "        vertical-align: top;\n",
       "    }\n",
       "\n",
       "    .dataframe thead th {\n",
       "        text-align: right;\n",
       "    }\n",
       "</style>\n",
       "<table border=\"1\" class=\"dataframe\">\n",
       "  <thead>\n",
       "    <tr style=\"text-align: right;\">\n",
       "      <th></th>\n",
       "      <th>mean</th>\n",
       "      <th>std</th>\n",
       "      <th>2.5q</th>\n",
       "      <th>25q</th>\n",
       "      <th>50q</th>\n",
       "      <th>75q</th>\n",
       "      <th>97.5q</th>\n",
       "      <th>mc err</th>\n",
       "    </tr>\n",
       "  </thead>\n",
       "  <tbody>\n",
       "    <tr>\n",
       "      <th>a</th>\n",
       "      <td>1.82533</td>\n",
       "      <td>0.0574815</td>\n",
       "      <td>1.71881</td>\n",
       "      <td>1.78698</td>\n",
       "      <td>1.82199</td>\n",
       "      <td>1.86319</td>\n",
       "      <td>1.93902</td>\n",
       "      <td>0.00200758</td>\n",
       "    </tr>\n",
       "    <tr>\n",
       "      <th>a_std</th>\n",
       "      <td>0.485115</td>\n",
       "      <td>0.0478604</td>\n",
       "      <td>0.402995</td>\n",
       "      <td>0.451567</td>\n",
       "      <td>0.480558</td>\n",
       "      <td>0.514922</td>\n",
       "      <td>0.592828</td>\n",
       "      <td>0.00224123</td>\n",
       "    </tr>\n",
       "    <tr>\n",
       "      <th>a_subj.3</th>\n",
       "      <td>1.2152</td>\n",
       "      <td>0.0636584</td>\n",
       "      <td>1.10245</td>\n",
       "      <td>1.16922</td>\n",
       "      <td>1.21188</td>\n",
       "      <td>1.25851</td>\n",
       "      <td>1.33811</td>\n",
       "      <td>0.00331402</td>\n",
       "    </tr>\n",
       "    <tr>\n",
       "      <th>a_subj.4</th>\n",
       "      <td>2.03619</td>\n",
       "      <td>0.160336</td>\n",
       "      <td>1.73325</td>\n",
       "      <td>1.92717</td>\n",
       "      <td>2.02628</td>\n",
       "      <td>2.14405</td>\n",
       "      <td>2.36046</td>\n",
       "      <td>0.0119961</td>\n",
       "    </tr>\n",
       "  </tbody>\n",
       "</table>\n",
       "</div>"
      ],
      "text/plain": [
       "              mean        std      2.5q       25q       50q       75q  \\\n",
       "a          1.82533  0.0574815   1.71881   1.78698   1.82199   1.86319   \n",
       "a_std     0.485115  0.0478604  0.402995  0.451567  0.480558  0.514922   \n",
       "a_subj.3    1.2152  0.0636584   1.10245   1.16922   1.21188   1.25851   \n",
       "a_subj.4   2.03619   0.160336   1.73325   1.92717   2.02628   2.14405   \n",
       "\n",
       "             97.5q      mc err  \n",
       "a          1.93902  0.00200758  \n",
       "a_std     0.592828  0.00224123  \n",
       "a_subj.3   1.33811  0.00331402  \n",
       "a_subj.4   2.36046   0.0119961  "
      ]
     },
     "execution_count": 13,
     "metadata": {},
     "output_type": "execute_result"
    }
   ],
   "source": [
    "stats = model_stim.gen_stats()\n",
    "stats[stats.index.isin(['a', 'a_std', 'a_subj.3', 'a_subj.4'])]"
   ]
  },
  {
   "cell_type": "code",
   "execution_count": 8,
   "id": "b0f925ca",
   "metadata": {},
   "outputs": [],
   "source": [
    "v_congruent, v_incongruent = model_stim.nodes_db.node[['v(congruent)', 'v(incongruent)']]"
   ]
  },
  {
   "cell_type": "code",
   "execution_count": 10,
   "id": "7d09130f",
   "metadata": {},
   "outputs": [
    {
     "data": {
      "image/png": "[encoded data removed]",
      "text/plain": [
       "<Figure size 432x288 with 1 Axes>"
      ]
     },
     "metadata": {
      "needs_background": "light"
     },
     "output_type": "display_data"
    }
   ],
   "source": [
    "hddm.analyze.plot_posterior_nodes([v_congruent, v_incongruent])\n",
    "plt.xlabel('drift-rate')\n",
    "plt.ylabel('Posterior probability')\n",
    "plt.title('Posterior of drift-rate means')\n",
    "plt.savefig('hddm_stim_con_vs_incon.pdf')"
   ]
  },
  {
   "cell_type": "code",
   "execution_count": 23,
   "id": "30c96043",
   "metadata": {},
   "outputs": [
    {
     "data": {
      "text/plain": [
       "('P(congruent > incongruent) = ', 1.0)"
      ]
     },
     "execution_count": 23,
     "metadata": {},
     "output_type": "execute_result"
    }
   ],
   "source": [
    "\"P(congruent > incongruent) = \", (v_congruent.trace() > v_incongruent.trace()).mean()"
   ]
  },
  {
   "cell_type": "code",
   "execution_count": 24,
   "id": "23b8ac14",
   "metadata": {},
   "outputs": [
    {
     "data": {
      "text/plain": [
       "('P(incongruent > congruent) = ', 0.0)"
      ]
     },
     "execution_count": 24,
     "metadata": {},
     "output_type": "execute_result"
    }
   ],
   "source": [
    "\"P(incongruent > congruent) = \", (v_incongruent.trace() > v_congruent.trace()).mean()"
   ]
  },
  {
   "cell_type": "code",
   "execution_count": null,
   "id": "f7edf00c",
   "metadata": {},
   "outputs": [],
   "source": []
  }
 ],
 "metadata": {
  "kernelspec": {
   "display_name": "Python 3",
   "language": "python",
   "name": "python3"
  },
  "language_info": {
   "codemirror_mode": {
    "name": "ipython",
    "version": 3
   },
   "file_extension": ".py",
   "mimetype": "text/x-python",
   "name": "python",
   "nbconvert_exporter": "python",
   "pygments_lexer": "ipython3",
   "version": "3.6.10"
  }
 },
 "nbformat": 4,
 "nbformat_minor": 5
}
